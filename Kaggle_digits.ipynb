{
 "cells": [
  {
   "cell_type": "code",
   "execution_count": 1,
   "metadata": {},
   "outputs": [],
   "source": [
    "import csv\n",
    "import numpy as np\n",
    "import pandas as pd\n",
    "import math\n",
    "import matplotlib.pyplot as plt\n",
    "import random"
   ]
  },
  {
   "cell_type": "code",
   "execution_count": 2,
   "metadata": {},
   "outputs": [],
   "source": [
    "train = pd.read_csv(r'C:\\Users\\44788\\Desktop\\coding\\pynbs\\Kaggle\\train.csv')\n",
    "test = pd.read_csv(r'C:\\Users\\44788\\Desktop\\coding\\pynbs\\Kaggle\\test.csv')"
   ]
  },
  {
   "cell_type": "code",
   "execution_count": 3,
   "metadata": {},
   "outputs": [],
   "source": [
    "Xarray = []\n",
    "pixel_names = list(train.columns[1:])\n",
    "for pixel in pixel_names:\n",
    "    Xarray.append(list(train[pixel]))\n",
    "Xtrain = np.array(Xarray)"
   ]
  },
  {
   "cell_type": "code",
   "execution_count": 4,
   "metadata": {},
   "outputs": [
    {
     "data": {
      "text/plain": [
       "(784, 42000)"
      ]
     },
     "execution_count": 4,
     "metadata": {},
     "output_type": "execute_result"
    }
   ],
   "source": [
    "Xtrain.shape"
   ]
  },
  {
   "cell_type": "code",
   "execution_count": 5,
   "metadata": {},
   "outputs": [],
   "source": [
    "ytrain = np.array(train['label'])\n",
    "def hot_ones_numpy(y):\n",
    "    Y = []\n",
    "    odd = []\n",
    "    for element in y:\n",
    "        if element == 0:\n",
    "            Y.append([1,0,0,0,0,0,0,0,0,0])\n",
    "        elif element == 1:\n",
    "            Y.append([0,1,0,0,0,0,0,0,0,0])\n",
    "        elif element == 2:\n",
    "            Y.append([0,0,1,0,0,0,0,0,0,0])\n",
    "        elif element == 3:\n",
    "            Y.append([0,0,0,1,0,0,0,0,0,0])\n",
    "        elif element == 4:\n",
    "            Y.append([0,0,0,0,1,0,0,0,0,0])\n",
    "        elif element == 5:\n",
    "            Y.append([0,0,0,0,0,1,0,0,0,0])\n",
    "        elif element == 6:\n",
    "            Y.append([0,0,0,0,0,0,1,0,0,0])\n",
    "        elif element == 7:\n",
    "            Y.append([0,0,0,0,0,0,0,1,0,0])\n",
    "        elif element == 8:\n",
    "            Y.append([0,0,0,0,0,0,0,0,1,0])\n",
    "        elif element == 9:\n",
    "            Y.append([0,0,0,0,0,0,0,0,0,1])\n",
    "    return np.array(Y).T\n",
    "Ytrain = hot_ones_numpy(ytrain)"
   ]
  },
  {
   "cell_type": "code",
   "execution_count": 6,
   "metadata": {},
   "outputs": [],
   "source": [
    "Xtrainbatches = np.array_split(Xtrain,330,axis=1)\n",
    "Ytrainbatches = np.array_split(Ytrain,330,axis=1)"
   ]
  },
  {
   "cell_type": "code",
   "execution_count": 7,
   "metadata": {},
   "outputs": [],
   "source": [
    "def sigmoid(z):\n",
    "    return(1 / (1 + np.exp(-z))) "
   ]
  },
  {
   "cell_type": "code",
   "execution_count": 8,
   "metadata": {},
   "outputs": [],
   "source": [
    "def softmax(z):\n",
    "    z_x = np.exp(z - np.max(z))\n",
    "    return z_x / np.sum(z_x)"
   ]
  },
  {
   "cell_type": "code",
   "execution_count": 9,
   "metadata": {},
   "outputs": [],
   "source": [
    "def Relu(z):\n",
    "    return np.maximum(0, z)"
   ]
  },
  {
   "cell_type": "code",
   "execution_count": 10,
   "metadata": {},
   "outputs": [],
   "source": [
    "def initialize_weights_biases(rows, columns):\n",
    "    return np.random.randn(rows, columns) * np.sqrt(2/columns+rows), np.zeros(shape=(rows, 1))"
   ]
  },
  {
   "cell_type": "code",
   "execution_count": 11,
   "metadata": {},
   "outputs": [],
   "source": [
    "def initialize_weights_biases2(rows, columns):\n",
    "    return np.random.randn(rows, columns) * 0.1, np.zeros(shape=(rows, 1))"
   ]
  },
  {
   "cell_type": "code",
   "execution_count": 12,
   "metadata": {},
   "outputs": [],
   "source": [
    "def compute_cost(A5, ytrue, m):\n",
    "    msum = -1/m\n",
    "    first_term = ytrue * np.log(A5)\n",
    "    second_term = (1-ytrue) * np.log(1-A5) \n",
    "    summing_term = first_term + second_term\n",
    "    cost = msum * np.sum(summing_term)\n",
    "    cost = np.squeeze(cost)      \n",
    "    return cost"
   ]
  },
  {
   "cell_type": "code",
   "execution_count": 13,
   "metadata": {},
   "outputs": [],
   "source": [
    "W1,b1 = initialize_weights_biases(400, 784)\n",
    "W2,b2 = initialize_weights_biases(250, 400)\n",
    "W3,b3 = initialize_weights_biases(50, 250)\n",
    "W4,b4 = initialize_weights_biases(20, 50)\n",
    "W5,b5 = initialize_weights_biases2(10, 20)"
   ]
  },
  {
   "cell_type": "code",
   "execution_count": 14,
   "metadata": {},
   "outputs": [],
   "source": [
    "def forprop(W, A, b, m):\n",
    "    epsilon = 1e-8\n",
    "    z = np.dot(W, A) + b\n",
    "    upsilon = 1./m * z\n",
    "    sigma2 = 1./m * (z-upsilon)**2\n",
    "    znorm = (z-upsilon)/(sigma2+epsilon)\n",
    "    return znorm "
   ]
  },
  {
   "cell_type": "code",
   "execution_count": 15,
   "metadata": {},
   "outputs": [],
   "source": [
    "def forward_propogation(X,W1,b1,W2,b2,W3,b3,W4,b4,W5,b5,m):\n",
    "    z1 = forprop(W1, X, b1, m)\n",
    "    A1 = Relu(z1)\n",
    "    z2 = forprop(W2, A1, b2, m)\n",
    "    A2 = Relu(z2)\n",
    "    z3 = forprop(W3, A2, b3, m)\n",
    "    A3 = Relu(z3)\n",
    "    z4 = forprop(W4, A3, b4, m)\n",
    "    A4 = Relu(z4)\n",
    "    z5 = forprop(W5, A4, b5, m)\n",
    "    A5 = sigmoid(z5)\n",
    "    A5 = softmax(A5)\n",
    "    return A5, A4, A3, A2, A1"
   ]
  },
  {
   "cell_type": "code",
   "execution_count": 16,
   "metadata": {},
   "outputs": [],
   "source": [
    "def backprop(W3, dZ3, A2, A1, W2, lambd, m):\n",
    "    dA2 = np.dot(W3.T, dZ3)\n",
    "    dZ2 = np.multiply(dA2, np.int64(A2 > 0))\n",
    "    dW2 = 1./m * np.dot(dZ2, A1.T) + lambd / m * W2\n",
    "    db2 = 1./m * np.sum(dZ2, axis=1, keepdims = True)\n",
    "    return dZ2, dW2, db2"
   ]
  },
  {
   "cell_type": "code",
   "execution_count": 17,
   "metadata": {},
   "outputs": [],
   "source": [
    "def backward_propogation(X, Y, A5, A4, A3, A2, A1, lambd, m):\n",
    "    dZ5 = A5 - Y\n",
    "    dW5 = 1./m * np.dot(dZ5, A4.T) + lambd / m * W5\n",
    "    db5 = 1./m * np.sum(dZ5, axis=1, keepdims = True)\n",
    "    dZ4, dW4, db4 = backprop(W5, dZ5, A4, A3, W4, lambd, m)\n",
    "    dZ3, dW3, db3 = backprop(W4, dZ4, A3, A2, W3, lambd, m)\n",
    "    dZ2, dW2, db2 = backprop(W3, dZ3, A2, A1, W2, lambd, m)\n",
    "    dZ1, dW1, db1 = backprop(W2, dZ2, A1, X, W1, lambd, m)\n",
    "    return dW5, db5, dW4, db4, dW3, db3, dW2, db2, dW1, db1"
   ]
  },
  {
   "cell_type": "code",
   "execution_count": 18,
   "metadata": {},
   "outputs": [],
   "source": [
    "def upparam(W, dW, b, db, Adam_cache, learning_rate, layer_no, m):\n",
    "    beta1 = 0.9\n",
    "    beta2 = 0.999\n",
    "    epsilon = 1e-8\n",
    "    Adam_cache[\"VdW\" + str(layer_no)] = beta1 * Adam_cache[\"VdW\" + str(layer_no)] + (1 - beta1) * W\n",
    "    Adam_cache[\"Vdb\" + str(layer_no)] = beta1 * Adam_cache[\"Vdb\" + str(layer_no)] + (1 - beta1) * b\n",
    "    VdWcor = Adam_cache[\"VdW\" + str(layer_no)] / (1 - beta1**m)\n",
    "    Vdbcor = Adam_cache[\"Vdb\" + str(layer_no)] / (1 - beta1**m)\n",
    "    Adam_cache[\"SdW\" + str(layer_no)] = beta2 * Adam_cache[\"SdW\" + str(layer_no)] + (1 - beta2) * W**2\n",
    "    Adam_cache[\"Sdb\" + str(layer_no)] = beta2 * Adam_cache[\"Sdb\" + str(layer_no)] + (1 - beta2) * b**2\n",
    "    SdWcor = Adam_cache[\"SdW\" + str(layer_no)] / (1 - beta2**m)\n",
    "    Sdbcor = Adam_cache[\"Sdb\" + str(layer_no)] / (1 - beta2**m)\n",
    "    W = W - learning_rate * VdWcor / (np.sqrt(SdWcor) + epsilon)\n",
    "    b = b - learning_rate * Vdbcor /(np.sqrt(Sdbcor) + epsilon)\n",
    "    return W, b, Adam_cache"
   ]
  },
  {
   "cell_type": "code",
   "execution_count": 19,
   "metadata": {},
   "outputs": [],
   "source": [
    "def initialize_Adam_values(weights, bias):\n",
    "    return np.zeros_like(weights), np.zeros_like(bias)"
   ]
  },
  {
   "cell_type": "code",
   "execution_count": 20,
   "metadata": {},
   "outputs": [],
   "source": [
    "Adam_cache ={'VdW1' : initialize_Adam_values(W1,b1)[0],\n",
    "             'Vdb1' : initialize_Adam_values(W1,b1)[1],\n",
    "             'SdW1' : initialize_Adam_values(W1,b1)[0],\n",
    "             'Sdb1' : initialize_Adam_values(W1,b1)[1],\n",
    "             'VdW2' : initialize_Adam_values(W2,b2)[0],\n",
    "             'Vdb2' : initialize_Adam_values(W2,b2)[1],\n",
    "             'SdW2' : initialize_Adam_values(W2,b2)[0],\n",
    "             'Sdb2' : initialize_Adam_values(W2,b2)[1],\n",
    "             'VdW3' : initialize_Adam_values(W3,b3)[0],\n",
    "             'Vdb3' : initialize_Adam_values(W3,b3)[1],\n",
    "             'SdW3' : initialize_Adam_values(W3,b3)[0],\n",
    "             'Sdb3' : initialize_Adam_values(W3,b3)[1],\n",
    "             'VdW4' : initialize_Adam_values(W4,b4)[0],\n",
    "             'Vdb4' : initialize_Adam_values(W4,b4)[1],\n",
    "             'SdW4' : initialize_Adam_values(W4,b4)[0],\n",
    "             'Sdb4' : initialize_Adam_values(W4,b4)[1],\n",
    "             'VdW5' : initialize_Adam_values(W5,b5)[0],\n",
    "             'Vdb5' : initialize_Adam_values(W5,b5)[1],\n",
    "             'SdW5' : initialize_Adam_values(W5,b5)[0],\n",
    "             'Sdb5' : initialize_Adam_values(W5,b5)[1]}"
   ]
  },
  {
   "cell_type": "code",
   "execution_count": 21,
   "metadata": {},
   "outputs": [],
   "source": [
    "def update_parameters(dW5, W5, db5, b5, dW4, W4, db4, b4, dW3, W3, db3, b3, dW2, W2, db2, b2, dW1, W1, db1, b1, Adam_cache, learning_rate, m):\n",
    "    W5, b5, Adam_cache = upparam(W5, dW5, b5, db5, Adam_cache, learning_rate, 5, m)\n",
    "    W4, b4, Adam_cache = upparam(W4, dW4, b4, db4, Adam_cache, learning_rate, 4, m)\n",
    "    W3, b3, Adam_cache = upparam(W3, dW3, b3, db3, Adam_cache, learning_rate, 3, m)\n",
    "    W2, b2, Adam_cache = upparam(W2, dW2, b2, db2, Adam_cache, learning_rate, 2, m)\n",
    "    W1, b1, Adam_cache = upparam(W1, dW1, b1, db1, Adam_cache, learning_rate, 1, m)\n",
    "    return W1, b1, W2, b2, W3, b3, W4, b4, W5, b5"
   ]
  },
  {
   "cell_type": "code",
   "execution_count": 22,
   "metadata": {},
   "outputs": [],
   "source": [
    "def test_accuracy(A5, Y, m):\n",
    "    correct_counter = 0\n",
    "    prediction = []\n",
    "    for ele1, ele2 in zip(A5.T, Y.T):\n",
    "        pred = list(ele1).index((max(ele1)))\n",
    "        data = list(ele2).index((max(ele2)))\n",
    "        prediction.append([pred, data])\n",
    "        if pred == data:\n",
    "            correct_counter +=1\n",
    "    return correct_counter/m * 100, prediction"
   ]
  },
  {
   "cell_type": "code",
   "execution_count": 23,
   "metadata": {},
   "outputs": [],
   "source": [
    "def Neural_network(X, Y, Adam_cache, W1, b1, W2, b2, W3, b3, W4, b4, W5, b5, learning_rate, number_iters, lambd):\n",
    "    costs = []\n",
    "    accuracy = []\n",
    "    iteration = 0\n",
    "    for i in range(number_iters):\n",
    "        for j, (x, y) in enumerate(zip(X, Y)):\n",
    "            m = x.shape[1]\n",
    "            A5, A4, A3, A2, A1 = forward_propogation(x,W1,b1,W2,b2,W3,b3,W4,b4,W5,b5,m)\n",
    "            costs.append(compute_cost(A5, y, m))\n",
    "            accuracy.append(test_accuracy(A5, y, m)[0])\n",
    "            dW5, db5, dW4, db4, dW3, db3, dW2, db2, dW1, db1 = backward_propogation(x, y, A5, A4, A3, A2, A1, lambd, m)\n",
    "            W1, b1, W2, b2, W3, b3, W4, b4, W5, b5 = update_parameters(dW5, W5, db5, b5, dW4, W4, db4, b4, dW3, W3, db3, \\\n",
    "                                                                       b3, dW2, W2, db2, b2, dW1, W1, db1, b1, Adam_cache, learning_rate, m)\n",
    "            iteration +=1\n",
    "            if iteration %100 == 0:\n",
    "                print('current pass number', iteration, 'cost:', compute_cost(A5, y, m), 'accuracy:', test_accuracy(A5, y, m)[0])\n",
    "    predictions = test_accuracy(A5, y, m)\n",
    "    return W1, b1, W2, b2, W3, b3, W4, b4, W5, b5, costs, accuracy, A5, predictions"
   ]
  },
  {
   "cell_type": "code",
   "execution_count": 24,
   "metadata": {},
   "outputs": [
    {
     "name": "stderr",
     "output_type": "stream",
     "text": [
      "C:\\Users\\44788\\.conda\\envs\\learning\\lib\\site-packages\\ipykernel_launcher.py:2: RuntimeWarning: overflow encountered in exp\n",
      "  \n"
     ]
    },
    {
     "name": "stdout",
     "output_type": "stream",
     "text": [
      "current pass number 100 cost: 7.248567499295898 accuracy: 8.661417322834646\n",
      "current pass number 200 cost: 7.226413932788304 accuracy: 8.661417322834646\n",
      "current pass number 300 cost: 7.2757395746266535 accuracy: 8.661417322834646\n",
      "current pass number 400 cost: 7.278067085282846 accuracy: 11.71875\n",
      "current pass number 500 cost: 7.23785710298283 accuracy: 8.661417322834646\n",
      "current pass number 600 cost: 7.19529477645667 accuracy: 10.236220472440944\n",
      "current pass number 700 cost: 7.188987384147266 accuracy: 6.25\n",
      "current pass number 800 cost: 7.216078967057928 accuracy: 11.811023622047244\n",
      "current pass number 900 cost: 7.239736208394727 accuracy: 7.874015748031496\n",
      "current pass number 1000 cost: 7.224952768978114 accuracy: 9.375\n",
      "current pass number 1100 cost: 7.218398756892604 accuracy: 8.661417322834646\n",
      "current pass number 1200 cost: 7.266841698177325 accuracy: 11.023622047244094\n",
      "current pass number 1300 cost: 7.277226933762611 accuracy: 18.11023622047244\n",
      "current pass number 1400 cost: 7.261393983191812 accuracy: 15.625\n",
      "current pass number 1500 cost: 7.156884846068129 accuracy: 10.236220472440944\n",
      "current pass number 1600 cost: 7.276341864328691 accuracy: 16.535433070866144\n"
     ]
    }
   ],
   "source": [
    "W1, b1, W2, b2, W3, b3, W4, b4, W5, b5, costs, accuracy_score, A5, predictions = Neural_network(Xtrainbatches, Ytrainbatches, Adam_cache, \\\n",
    "                                                                                               W1, b1, W2, b2, W3, b3, W4, b4, W5, b5, 0.0003, 5, 0.01)"
   ]
  },
  {
   "cell_type": "code",
   "execution_count": 25,
   "metadata": {},
   "outputs": [
    {
     "data": {
      "text/plain": [
       "Text(0.5, 0, 'number of iterations')"
      ]
     },
     "execution_count": 25,
     "metadata": {},
     "output_type": "execute_result"
    },
    {
     "data": {
      "image/png": "[encoded data removed]",
      "text/plain": [
       "<Figure size 432x288 with 1 Axes>"
      ]
     },
     "metadata": {
      "needs_background": "light"
     },
     "output_type": "display_data"
    }
   ],
   "source": [
    "plt.plot(range(0,len(costs)), costs)\n",
    "plt.plot(range(0,len(accuracy_score)), accuracy_score)\n",
    "plt.title('cost reduction over iterations')\n",
    "plt.ylabel('cost')\n",
    "plt.xlabel('number of iterations')"
   ]
  },
  {
   "cell_type": "code",
   "execution_count": null,
   "metadata": {},
   "outputs": [],
   "source": []
  }
 ],
 "metadata": {
  "kernelspec": {
   "display_name": "Python 3",
   "language": "python",
   "name": "python3"
  },
  "language_info": {
   "codemirror_mode": {
    "name": "ipython",
    "version": 3
   },
   "file_extension": ".py",
   "mimetype": "text/x-python",
   "name": "python",
   "nbconvert_exporter": "python",
   "pygments_lexer": "ipython3",
   "version": "3.6.10"
  }
 },
 "nbformat": 4,
 "nbformat_minor": 4
}
