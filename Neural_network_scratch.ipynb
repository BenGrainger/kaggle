{
 "cells": [
  {
   "cell_type": "code",
   "execution_count": 3,
   "metadata": {},
   "outputs": [],
   "source": [
    "import csv\n",
    "import numpy as np\n",
    "import math\n",
    "import matplotlib.pyplot as plt\n",
    "import random\n",
    "from os.path import dirname, join as pjoin\n",
    "from scipy.io import loadmat"
   ]
  },
  {
   "cell_type": "code",
   "execution_count": 4,
   "metadata": {},
   "outputs": [],
   "source": [
    "file_name = r'C:\\Users\\44788\\Desktop\\OctaveML\\machine-learning-ex4\\ex4\\ex4data1.mat'\n",
    "mat_data = loadmat(file_name)"
   ]
  },
  {
   "cell_type": "code",
   "execution_count": 5,
   "metadata": {},
   "outputs": [
    {
     "data": {
      "text/plain": [
       "dict_keys(['__header__', '__version__', '__globals__', 'X', 'y'])"
      ]
     },
     "execution_count": 5,
     "metadata": {},
     "output_type": "execute_result"
    }
   ],
   "source": [
    "mat_data.keys()"
   ]
  },
  {
   "cell_type": "code",
   "execution_count": 6,
   "metadata": {},
   "outputs": [],
   "source": [
    "X = mat_data['X']; y = mat_data['y']"
   ]
  },
  {
   "cell_type": "code",
   "execution_count": 7,
   "metadata": {},
   "outputs": [
    {
     "name": "stdout",
     "output_type": "stream",
     "text": [
      "5000 training examples 400 parameters\n"
     ]
    }
   ],
   "source": [
    "print(X.shape[0], 'training examples', X.shape[1], 'parameters')"
   ]
  },
  {
   "cell_type": "code",
   "execution_count": 8,
   "metadata": {},
   "outputs": [
    {
     "name": "stdout",
     "output_type": "stream",
     "text": [
      "(5000, 1) dimension vector\n"
     ]
    }
   ],
   "source": [
    "print(y.shape, 'dimension vector')"
   ]
  },
  {
   "cell_type": "code",
   "execution_count": 9,
   "metadata": {},
   "outputs": [],
   "source": [
    "Y = []\n",
    "for element in y:\n",
    "    if element == 1:\n",
    "        Y.append([1,0,0,0,0,0,0,0,0,0])\n",
    "    if element == 2:\n",
    "        Y.append([0,1,0,0,0,0,0,0,0,0])\n",
    "    if element == 3:\n",
    "        Y.append([0,0,1,0,0,0,0,0,0,0])\n",
    "    if element == 4:\n",
    "        Y.append([0,0,0,1,0,0,0,0,0,0])\n",
    "    if element == 5:\n",
    "        Y.append([0,0,0,0,1,0,0,0,0,0])\n",
    "    if element == 6:\n",
    "        Y.append([0,0,0,0,0,1,0,0,0,0])\n",
    "    if element == 7:\n",
    "        Y.append([0,0,0,0,0,0,1,0,0,0])\n",
    "    if element == 8:\n",
    "        Y.append([0,0,0,0,0,0,0,1,0,0])\n",
    "    if element == 9:\n",
    "        Y.append([0,0,0,0,0,0,0,0,1,0])\n",
    "    if element == 10:\n",
    "        Y.append([0,0,0,0,0,0,0,0,0,1])\n",
    "Y = np.array(Y)"
   ]
  },
  {
   "cell_type": "code",
   "execution_count": 10,
   "metadata": {},
   "outputs": [],
   "source": [
    "def sigmoid(z):\n",
    "    return(1 / (1 + np.exp(-z))) "
   ]
  },
  {
   "cell_type": "code",
   "execution_count": 11,
   "metadata": {},
   "outputs": [],
   "source": [
    "def Relu(z):\n",
    "    return np.maximum(0, z)"
   ]
  },
  {
   "cell_type": "code",
   "execution_count": 12,
   "metadata": {},
   "outputs": [],
   "source": [
    "def initialize_weights_biases(rows, columns):\n",
    "    return np.random.randn(rows, columns) * 0.01, np.zeros(shape=(rows, 1))"
   ]
  },
  {
   "cell_type": "code",
   "execution_count": 13,
   "metadata": {},
   "outputs": [],
   "source": [
    "def compute_cost(A4, Y):\n",
    "    m = Y.shape[1]\n",
    "    cost = -1/m * np.sum(Y * np.log(A4) + (1-Y) * np.log(1-A4))\n",
    "    cost = np.squeeze(cost)      \n",
    "    return cost"
   ]
  },
  {
   "cell_type": "code",
   "execution_count": 14,
   "metadata": {},
   "outputs": [],
   "source": [
    "W1,b1 = initialize_weights_biases(1000, 400)\n",
    "W2,b2 = initialize_weights_biases(500, 1000)\n",
    "W3,b3 = initialize_weights_biases(100, 500)\n",
    "W4,b4 = initialize_weights_biases(10, 100)"
   ]
  },
  {
   "cell_type": "code",
   "execution_count": 15,
   "metadata": {},
   "outputs": [],
   "source": [
    "def forprop(W, A, b):\n",
    "    return np.dot(W, A) + b"
   ]
  },
  {
   "cell_type": "code",
   "execution_count": 16,
   "metadata": {},
   "outputs": [],
   "source": [
    "def forward_propogation(X,W1,b1,W2,b2,W3,b3,W4,b4):\n",
    "    z1 = forprop(W1, X, b1)\n",
    "    A1 = Relu(z1)\n",
    "    z2 = forprop(W2, A1, b2)\n",
    "    A2 = Relu(z2)\n",
    "    z3 = forprop(W3, A2, b3)\n",
    "    A3 = Relu(z3)\n",
    "    z4 = forprop(W4, A3, b4)\n",
    "    A4 = sigmoid(z4)\n",
    "    return A4, A3, A2, A1"
   ]
  },
  {
   "cell_type": "code",
   "execution_count": 17,
   "metadata": {},
   "outputs": [],
   "source": [
    "def backprop(W3, dZ3, A2, A1, W2, lambd, m):\n",
    "    dA2 = np.dot(W3.T, dZ3)\n",
    "    dZ2 = np.multiply(dA2, np.int64(A2 > 0))\n",
    "    dW2 = 1./m * np.dot(dZ2, A1.T) + lambd / m * W2\n",
    "    db2 = 1./m * np.sum(dZ2, axis=1, keepdims = True)\n",
    "    return dZ2, dW2, db2"
   ]
  },
  {
   "cell_type": "code",
   "execution_count": 18,
   "metadata": {},
   "outputs": [],
   "source": [
    "def backward_propogation(Y, A4, A3, A2, A1, lambd, m):\n",
    "    dZ4 = A4 - Y\n",
    "    dW4 = 1./m * np.dot(dZ4, A3.T) + lambd / m * W4\n",
    "    db4 = 1./m * np.sum(dZ4, axis=1, keepdims = True)\n",
    "    dZ3, dW3, db3 = backprop(W4, dZ4, A3, A2, W3, lambd, m)\n",
    "    dZ2, dW2, db2 = backprop(W3, dZ3, A2, A1, W2, lambd, m)\n",
    "    dZ1, dW1, db1 = backprop(W2, dZ2, A1, X.T, W1, lambd, m)\n",
    "    return dW4, db4, dW3, db3, dW2, db2, dW1, db1"
   ]
  },
  {
   "cell_type": "code",
   "execution_count": 19,
   "metadata": {},
   "outputs": [],
   "source": [
    "def upparam(W, dW, b, db, learning_rate):\n",
    "    W -= learning_rate * dW\n",
    "    b -= learning_rate * db\n",
    "    return W, b"
   ]
  },
  {
   "cell_type": "code",
   "execution_count": 20,
   "metadata": {},
   "outputs": [],
   "source": [
    "def update_parameters(dW4, W4, db4, b4, dW3, W3, db3, b3, dW2, W2, db2, b2, dW1, W1, db1, b1, learning_rate):\n",
    "    W4, b4 = upparam(W4, dW4, b4, db4, learning_rate)\n",
    "    W3, b3 = upparam(W3, dW3, b3, db3, learning_rate)\n",
    "    W2, b2 = upparam(W2, dW2, b2, db2, learning_rate)\n",
    "    W1, b1 = upparam(W1, dW1, b1, db1, learning_rate)\n",
    "    return W1, b1, W2, b2, W3, b3, W4, b4"
   ]
  },
  {
   "cell_type": "code",
   "execution_count": 21,
   "metadata": {},
   "outputs": [],
   "source": [
    "def Neural_network(X, Y, W1, b1, W2, b2, W3, b3, W4, b4, learning_rate, number_iters, lambd, m):\n",
    "    costs = []\n",
    "    for i in range(number_iters):\n",
    "        A4, A3, A2, A1 = forward_propogation(X,W1,b1,W2,b2,W3,b3,W4,b4)\n",
    "        costs.append(compute_cost(A4, Y))\n",
    "        dW4, db4, dW3, db3, dW2, db2, dW1, db1 = backward_propogation(Y, A4, A3, A2, A1, lambd, m)\n",
    "        W1, b1, W2, b2, W3, b3, W4, b4 = update_parameters(dW4, W4, db4, b4, dW3, W3, db3, b3, dW2, W2, db2, b2, dW1, W1, db1, b1, learning_rate)\n",
    "        if i%100 == 0:\n",
    "            print('current iteration', i, 'cost:', compute_cost(A4, Y))\n",
    "    return W1, b1, W2, b2, W3, b3, W4, b4, costs"
   ]
  },
  {
   "cell_type": "code",
   "execution_count": 22,
   "metadata": {},
   "outputs": [
    {
     "name": "stdout",
     "output_type": "stream",
     "text": [
      "current iteration 0 cost: 6.93162432323507\n",
      "current iteration 100 cost: 6.484096745357068\n",
      "current iteration 200 cost: 6.09810775977406\n",
      "current iteration 300 cost: 5.7639125698047\n",
      "current iteration 400 cost: 5.473136344928589\n",
      "current iteration 500 cost: 5.218251646759699\n",
      "current iteration 600 cost: 4.992588139269521\n",
      "current iteration 700 cost: 4.790198802324864\n",
      "current iteration 800 cost: 4.605778521264475\n",
      "current iteration 900 cost: 4.434601833135145\n"
     ]
    }
   ],
   "source": [
    "W1, b1, W2, b2, W3, b3, W4, b4, costs = Neural_network(X.T, Y.T, W1, b1, W2, b2, W3, b3, W4, b4, 0.003, 1000, 0.1, X.shape[0])"
   ]
  },
  {
   "cell_type": "code",
   "execution_count": 31,
   "metadata": {},
   "outputs": [
    {
     "data": {
      "text/plain": [
       "Text(0.5, 0, 'number of iterations')"
      ]
     },
     "execution_count": 31,
     "metadata": {},
     "output_type": "execute_result"
    },
    {
     "data": {
      "image/png": "[encoded data removed]",
      "text/plain": [
       "<Figure size 432x288 with 1 Axes>"
      ]
     },
     "metadata": {
      "needs_background": "light"
     },
     "output_type": "display_data"
    }
   ],
   "source": [
    "plt.plot(range(0,len(costs)), costs)\n",
    "plt.title('cost reduction over iterations')\n",
    "plt.ylabel('cost')\n",
    "plt.xlabel('number of iterations')"
   ]
  },
  {
   "cell_type": "code",
   "execution_count": null,
   "metadata": {},
   "outputs": [],
   "source": []
  }
 ],
 "metadata": {
  "kernelspec": {
   "display_name": "Python 3",
   "language": "python",
   "name": "python3"
  },
  "language_info": {
   "codemirror_mode": {
    "name": "ipython",
    "version": 3
   },
   "file_extension": ".py",
   "mimetype": "text/x-python",
   "name": "python",
   "nbconvert_exporter": "python",
   "pygments_lexer": "ipython3",
   "version": "3.6.10"
  }
 },
 "nbformat": 4,
 "nbformat_minor": 4
}
