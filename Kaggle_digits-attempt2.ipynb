{
 "cells": [
  {
   "cell_type": "code",
   "execution_count": 2,
   "metadata": {},
   "outputs": [],
   "source": [
    "import csv\n",
    "import numpy as np\n",
    "import pandas as pd\n",
    "import math\n",
    "import matplotlib.pyplot as plt\n",
    "import random\n",
    "from sklearn.preprocessing import MinMaxScaler\n",
    "from sklearn.linear_model import Ridge"
   ]
  },
  {
   "cell_type": "code",
   "execution_count": 3,
   "metadata": {},
   "outputs": [],
   "source": [
    "train = pd.read_csv(r'C:\\Users\\44788\\Desktop\\coding\\pynbs\\Kaggle\\train.csv')\n",
    "test = pd.read_csv(r'C:\\Users\\44788\\Desktop\\coding\\pynbs\\Kaggle\\test.csv')"
   ]
  },
  {
   "cell_type": "code",
   "execution_count": 4,
   "metadata": {},
   "outputs": [
    {
     "data": {
      "image/png": "[encoded data removed]",
      "text/plain": [
       "<Figure size 432x288 with 1 Axes>"
      ]
     },
     "metadata": {
      "needs_background": "light"
     },
     "output_type": "display_data"
    }
   ],
   "source": [
    "from sklearn.decomposition import PCA\n",
    "pca = PCA()\n",
    "scaled_data = pca.fit_transform(train)\n",
    "pca_data = pca.transform(scaled_data)\n",
    "per_var = np.round(pca.explained_variance_ratio_* 100, decimals=1)\n",
    "labels = ['PC' + str(x) for x in range(1, len(per_var) +1)]\n",
    "plt.bar(x=range(1,len(per_var[:100])+1), height=per_var[:100], color='k')\n",
    "plt.ylabel('percent of explained variance')\n",
    "plt.xlabel('principle component')\n",
    "plt.show()"
   ]
  },
  {
   "cell_type": "code",
   "execution_count": 7,
   "metadata": {},
   "outputs": [],
   "source": [
    "scaler = MinMaxScaler()\n",
    "Xtrain = scaler.fit_transform(pca_data)"
   ]
  },
  {
   "cell_type": "code",
   "execution_count": 8,
   "metadata": {},
   "outputs": [],
   "source": [
    "Xtrain = pca_data[:,:60].T"
   ]
  },
  {
   "cell_type": "code",
   "execution_count": 9,
   "metadata": {},
   "outputs": [],
   "source": [
    "ytrain = np.array(train['label'])\n",
    "def hot_ones_numpy(y):\n",
    "    Y = []\n",
    "    odd = []\n",
    "    for element in y:\n",
    "        if element == 0:\n",
    "            Y.append([1,0,0,0,0,0,0,0,0,0])\n",
    "        elif element == 1:\n",
    "            Y.append([0,1,0,0,0,0,0,0,0,0])\n",
    "        elif element == 2:\n",
    "            Y.append([0,0,1,0,0,0,0,0,0,0])\n",
    "        elif element == 3:\n",
    "            Y.append([0,0,0,1,0,0,0,0,0,0])\n",
    "        elif element == 4:\n",
    "            Y.append([0,0,0,0,1,0,0,0,0,0])\n",
    "        elif element == 5:\n",
    "            Y.append([0,0,0,0,0,1,0,0,0,0])\n",
    "        elif element == 6:\n",
    "            Y.append([0,0,0,0,0,0,1,0,0,0])\n",
    "        elif element == 7:\n",
    "            Y.append([0,0,0,0,0,0,0,1,0,0])\n",
    "        elif element == 8:\n",
    "            Y.append([0,0,0,0,0,0,0,0,1,0])\n",
    "        elif element == 9:\n",
    "            Y.append([0,0,0,0,0,0,0,0,0,1])\n",
    "    return np.array(Y).T\n",
    "Ytrain = hot_ones_numpy(ytrain)"
   ]
  },
  {
   "cell_type": "code",
   "execution_count": 86,
   "metadata": {},
   "outputs": [],
   "source": [
    "Xtrainbatches = np.array_split(Xtrain,1,axis=1)\n",
    "Ytrainbatches = np.array_split(Ytrain,1,axis=1)"
   ]
  },
  {
   "cell_type": "code",
   "execution_count": 87,
   "metadata": {},
   "outputs": [],
   "source": [
    "def sigmoid(z):\n",
    "    return(1 / (1 + np.exp(-z))) "
   ]
  },
  {
   "cell_type": "code",
   "execution_count": 88,
   "metadata": {},
   "outputs": [],
   "source": [
    "def softmax(z):\n",
    "    z_x = np.exp(z - np.max(z))\n",
    "    return z_x / np.sum(z_x)"
   ]
  },
  {
   "cell_type": "code",
   "execution_count": 89,
   "metadata": {},
   "outputs": [],
   "source": [
    "def Relu(z):\n",
    "    return np.maximum(0, z)"
   ]
  },
  {
   "cell_type": "code",
   "execution_count": 90,
   "metadata": {},
   "outputs": [],
   "source": [
    "def initialize_weights_biases(rows, columns):\n",
    "    return np.random.randn(rows, columns) * np.sqrt(2/columns+rows), np.zeros(shape=(rows, 1))"
   ]
  },
  {
   "cell_type": "code",
   "execution_count": 91,
   "metadata": {},
   "outputs": [],
   "source": [
    "def initialize_weights_biases2(rows, columns):\n",
    "    return np.random.randn(rows, columns) * 0.1, np.zeros(shape=(rows, 1))"
   ]
  },
  {
   "cell_type": "code",
   "execution_count": 92,
   "metadata": {},
   "outputs": [],
   "source": [
    "def compute_cost(A5, ytrue, m):\n",
    "    msum = -1/m\n",
    "    first_term = ytrue * np.log(A5)\n",
    "    second_term = (1-ytrue) * np.log(1-A5) \n",
    "    summing_term = first_term + second_term\n",
    "    cost = msum * np.sum(summing_term)\n",
    "    cost = np.squeeze(cost)      \n",
    "    return cost"
   ]
  },
  {
   "cell_type": "code",
   "execution_count": 93,
   "metadata": {},
   "outputs": [],
   "source": [
    "W1,b1 = initialize_weights_biases(30, 60)\n",
    "W2,b2 = initialize_weights_biases(10, 30)"
   ]
  },
  {
   "cell_type": "code",
   "execution_count": 94,
   "metadata": {},
   "outputs": [],
   "source": [
    "def forprop(W, A, b):\n",
    "    z = np.dot(W, A) + b\n",
    "    return z"
   ]
  },
  {
   "cell_type": "code",
   "execution_count": 95,
   "metadata": {},
   "outputs": [],
   "source": [
    "def forward_propogation(X,W1,b1,W2,b2):\n",
    "    z1 = forprop(W1, X, b1)\n",
    "    A1 = Relu(z1)\n",
    "    z2 = forprop(W2, A1, b2)\n",
    "    A2 = sigmoid(z2)\n",
    "    return A2, A1"
   ]
  },
  {
   "cell_type": "code",
   "execution_count": 96,
   "metadata": {},
   "outputs": [],
   "source": [
    "def backprop(W3, dZ3, A2, A1, W2, lambd, m):\n",
    "    dA2 = np.dot(W3.T, dZ3)\n",
    "    dZ2 = np.multiply(dA2, np.int64(A2 > 0))\n",
    "    dW2 = 1./m * np.dot(dZ2, A1.T) + lambd / m * W2\n",
    "    db2 = 1./m * np.sum(dZ2, axis=1, keepdims = True)\n",
    "    return dW2, db2"
   ]
  },
  {
   "cell_type": "code",
   "execution_count": 97,
   "metadata": {},
   "outputs": [],
   "source": [
    "def backward_propogation(X, Y, A2, A1, lambd, m):\n",
    "    dZ2 = A2 - Y\n",
    "    dW2 = 1./m * np.dot(dZ2, A1.T) + lambd / m * W2\n",
    "    db2 = 1./m * np.sum(dZ2, axis=1, keepdims = True)\n",
    "    dW1, db1 = backprop(W2, dZ2, A1, X, W1, lambd, m)\n",
    "    return dW2, db2, dW1, db1"
   ]
  },
  {
   "cell_type": "code",
   "execution_count": 98,
   "metadata": {},
   "outputs": [],
   "source": [
    "def upparam(W, dW, b, db, Adam_cache, learning_rate, layer_no, m):\n",
    "    beta1 = 0.9\n",
    "    beta2 = 0.999\n",
    "    epsilon = 1e-8\n",
    "    Adam_cache[\"VdW\" + str(layer_no)] = beta1 * Adam_cache[\"VdW\" + str(layer_no)] + (1 - beta1) * W\n",
    "    Adam_cache[\"Vdb\" + str(layer_no)] = beta1 * Adam_cache[\"Vdb\" + str(layer_no)] + (1 - beta1) * b\n",
    "    VdWcor = Adam_cache[\"VdW\" + str(layer_no)] / (1 - beta1**m)\n",
    "    Vdbcor = Adam_cache[\"Vdb\" + str(layer_no)] / (1 - beta1**m)\n",
    "    Adam_cache[\"SdW\" + str(layer_no)] = beta2 * Adam_cache[\"SdW\" + str(layer_no)] + (1 - beta2) * W**2\n",
    "    Adam_cache[\"Sdb\" + str(layer_no)] = beta2 * Adam_cache[\"Sdb\" + str(layer_no)] + (1 - beta2) * b**2\n",
    "    SdWcor = Adam_cache[\"SdW\" + str(layer_no)] / (1 - beta2**m)\n",
    "    Sdbcor = Adam_cache[\"Sdb\" + str(layer_no)] / (1 - beta2**m)\n",
    "    W = W - learning_rate * VdWcor / (np.sqrt(SdWcor) + epsilon)\n",
    "    b = b - learning_rate * Vdbcor /(np.sqrt(Sdbcor) + epsilon)\n",
    "    return W, b, Adam_cache"
   ]
  },
  {
   "cell_type": "code",
   "execution_count": 99,
   "metadata": {},
   "outputs": [],
   "source": [
    "def initialize_Adam_values(weights, bias):\n",
    "    return np.zeros_like(weights), np.zeros_like(bias)"
   ]
  },
  {
   "cell_type": "code",
   "execution_count": 100,
   "metadata": {},
   "outputs": [],
   "source": [
    "Adam_cache ={'VdW1' : initialize_Adam_values(W1,b1)[0],\n",
    "             'Vdb1' : initialize_Adam_values(W1,b1)[1],\n",
    "             'SdW1' : initialize_Adam_values(W1,b1)[0],\n",
    "             'Sdb1' : initialize_Adam_values(W1,b1)[1],\n",
    "             'VdW2' : initialize_Adam_values(W2,b2)[0],\n",
    "             'Vdb2' : initialize_Adam_values(W2,b2)[1],\n",
    "             'SdW2' : initialize_Adam_values(W2,b2)[0],\n",
    "             'Sdb2' : initialize_Adam_values(W2,b2)[1]}"
   ]
  },
  {
   "cell_type": "code",
   "execution_count": 101,
   "metadata": {},
   "outputs": [],
   "source": [
    "def update_parameters(dW2, W2, db2, b2, dW1, W1, db1, b1, Adam_cache, learning_rate, m):\n",
    "    W2, b2, Adam_cache = upparam(W2, dW2, b2, db2, Adam_cache, learning_rate, 2, m)\n",
    "    W1, b1, Adam_cache = upparam(W1, dW1, b1, db1, Adam_cache, learning_rate, 1, m)\n",
    "    return W1, b1, W2, b2"
   ]
  },
  {
   "cell_type": "code",
   "execution_count": 102,
   "metadata": {},
   "outputs": [],
   "source": [
    "def test_accuracy(A2, Y, m):\n",
    "    correct_counter = 0\n",
    "    prediction = []\n",
    "    for ele1, ele2 in zip(A2.T, Y.T):\n",
    "        pred = list(ele1).index((max(ele1)))\n",
    "        data = list(ele2).index((max(ele2)))\n",
    "        prediction.append([pred, data])\n",
    "        if pred == data:\n",
    "            correct_counter +=1\n",
    "    return correct_counter/m * 100, prediction"
   ]
  },
  {
   "cell_type": "code",
   "execution_count": 106,
   "metadata": {},
   "outputs": [],
   "source": [
    "def Neural_network(X, Y, Adam_cache, W1, b1, W2, b2, learning_rate, number_iters, lambd):\n",
    "    costs = []\n",
    "    accuracy = []\n",
    "    iteration = 0\n",
    "    for i in range(number_iters):\n",
    "        for j, (x, y) in enumerate(zip(X, Y)):\n",
    "            m = x.shape[1]\n",
    "            A2, A1 = forward_propogation(x,W1,b1,W2,b2)\n",
    "            costs.append(compute_cost(A2, y, m))\n",
    "            accuracy.append(test_accuracy(A2, y, m)[0])\n",
    "            dW2, db2, dW1, db1 = backward_propogation(x, y, A2, A1, lambd, m)\n",
    "            W1, b1, W2, b2 = update_parameters(dW2, W2, db2, b2, dW1, W1, db1, b1, Adam_cache, learning_rate, m)\n",
    "            iteration +=1\n",
    "            if iteration %100 == 0:\n",
    "                print('current pass number', iteration, 'cost:', compute_cost(A2, y, m), 'accuracy:', test_accuracy(A2, y, m)[0])\n",
    "    predictions = test_accuracy(A2, y, m)\n",
    "    return W1, b1, W2, b2, costs, accuracy, predictions"
   ]
  },
  {
   "cell_type": "code",
   "execution_count": 111,
   "metadata": {},
   "outputs": [
    {
     "name": "stderr",
     "output_type": "stream",
     "text": [
      "C:\\Users\\44788\\.conda\\envs\\learning\\lib\\site-packages\\ipykernel_launcher.py:2: RuntimeWarning: overflow encountered in exp\n",
      "  \n",
      "C:\\Users\\44788\\.conda\\envs\\learning\\lib\\site-packages\\ipykernel_launcher.py:3: RuntimeWarning: divide by zero encountered in log\n",
      "  This is separate from the ipykernel package so we can avoid doing imports until\n",
      "C:\\Users\\44788\\.conda\\envs\\learning\\lib\\site-packages\\ipykernel_launcher.py:3: RuntimeWarning: invalid value encountered in multiply\n",
      "  This is separate from the ipykernel package so we can avoid doing imports until\n",
      "C:\\Users\\44788\\.conda\\envs\\learning\\lib\\site-packages\\ipykernel_launcher.py:4: RuntimeWarning: divide by zero encountered in log\n",
      "  after removing the cwd from sys.path.\n",
      "C:\\Users\\44788\\.conda\\envs\\learning\\lib\\site-packages\\ipykernel_launcher.py:4: RuntimeWarning: invalid value encountered in multiply\n",
      "  after removing the cwd from sys.path.\n"
     ]
    }
   ],
   "source": [
    "W1, b1, W2, b2, costs, accuracy_score, predictions = Neural_network(Xtrainbatches, Ytrainbatches, Adam_cache, W1, b1, W2, b2, 0.003, 10, 0.01)"
   ]
  },
  {
   "cell_type": "code",
   "execution_count": 112,
   "metadata": {},
   "outputs": [
    {
     "data": {
      "text/plain": [
       "Text(0.5, 0, 'number of iterations')"
      ]
     },
     "execution_count": 112,
     "metadata": {},
     "output_type": "execute_result"
    },
    {
     "data": {
      "image/png": "[encoded data removed]",
      "text/plain": [
       "<Figure size 432x288 with 1 Axes>"
      ]
     },
     "metadata": {
      "needs_background": "light"
     },
     "output_type": "display_data"
    }
   ],
   "source": [
    "plt.plot(range(0,len(costs)), costs)\n",
    "plt.plot(range(0,len(accuracy_score)), accuracy_score)\n",
    "plt.title('cost reduction over iterations')\n",
    "plt.ylabel('cost')\n",
    "plt.xlabel('number of iterations')"
   ]
  },
  {
   "cell_type": "code",
   "execution_count": null,
   "metadata": {},
   "outputs": [],
   "source": []
  }
 ],
 "metadata": {
  "kernelspec": {
   "display_name": "Python 3",
   "language": "python",
   "name": "python3"
  },
  "language_info": {
   "codemirror_mode": {
    "name": "ipython",
    "version": 3
   },
   "file_extension": ".py",
   "mimetype": "text/x-python",
   "name": "python",
   "nbconvert_exporter": "python",
   "pygments_lexer": "ipython3",
   "version": "3.6.10"
  }
 },
 "nbformat": 4,
 "nbformat_minor": 4
}
